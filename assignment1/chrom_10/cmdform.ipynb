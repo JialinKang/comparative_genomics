{
 "nbformat": 4,
 "nbformat_minor": 2,
 "metadata": {
  "language_info": {
   "name": "python",
   "codemirror_mode": {
    "name": "ipython",
    "version": 3
   },
   "version": "3.7.4-final"
  },
  "orig_nbformat": 2,
  "file_extension": ".py",
  "mimetype": "text/x-python",
  "name": "python",
  "npconvert_exporter": "python",
  "pygments_lexer": "ipython3",
  "version": 3,
  "kernelspec": {
   "name": "python37464bitbaseconda7488c6938816401994c2e6b64e34356c",
   "display_name": "Python 3.7.4 64-bit ('base': conda)"
  }
 },
 "cells": [
  {
   "source": [
    "import os"
   ],
   "cell_type": "code",
   "outputs": [],
   "metadata": {},
   "execution_count": 1
  },
  {
   "source": [
    "file_list = ['./ce10.chrom.sizes','./dm6.chrom.sizes','./ecoli.chrom.sizes','./hg38.chrom.sizes','./TAIR10.chrom.sizes','./tomato.chrom.sizes','./wheat.chrom.sizes','./yeast.chrom.sizes']\n",
    "for i in range(8):\n",
    "    os.system('datamash mean 2 max 2 min 2 count 2 sum 2 < {} >> collect.txt'.format(file_list[i]))\n"
   ],
   "cell_type": "code",
   "outputs": [],
   "metadata": {},
   "execution_count": 15
  },
  {
   "cell_type": "code",
   "execution_count": null,
   "metadata": {},
   "outputs": [],
   "source": []
  }
 ]
}