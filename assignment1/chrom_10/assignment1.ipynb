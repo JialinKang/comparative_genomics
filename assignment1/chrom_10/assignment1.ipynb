{
 "nbformat": 4,
 "nbformat_minor": 2,
 "metadata": {
  "language_info": {
   "name": "python",
   "codemirror_mode": {
    "name": "ipython",
    "version": 3
   },
   "version": "3.7.4-final"
  },
  "orig_nbformat": 2,
  "file_extension": ".py",
  "mimetype": "text/x-python",
  "name": "python",
  "npconvert_exporter": "python",
  "pygments_lexer": "ipython3",
  "version": 3,
  "kernelspec": {
   "name": "python37464bitbaseconda7488c6938816401994c2e6b64e34356c",
   "display_name": "Python 3.7.4 64-bit ('base': conda)"
  }
 },
 "cells": [
  {
   "source": [
    "import pandas as pd\n",
    "import numpy\n",
    "import xlrd\n",
    "import xlwt\n",
    "import os"
   ],
   "cell_type": "code",
   "outputs": [],
   "metadata": {},
   "execution_count": 44
  },
  {
   "source": [
    "file_list = ['./ce10.chrom.sizes','./dm6.chrom.sizes','./ecoli.chrom.sizes','./hg38.chrom.sizes','./TAIR10.chrom.sizes','./tomato.chrom.sizes','./wheat.chrom.sizes','./yeast.chrom.sizes']\n",
    "sheet_list = ['ce10','dm6','ecoli','hg38','TAIR10','tomato','wheat','yeast']\n",
    "for i in range(8):\n",
    "    print(i)\n",
    "    print(type(sheet_list[0]))\n",
    "    f = open(file_list[i], 'r')\n",
    "    wb = xlwt.Workbook()\n",
    "    wpw = sheet_list[i]\n",
    "    wpw = wb.add_sheet(wpw)\n",
    "    line = f.readline().replace('\\n','')\n",
    "    line_list = line.split()\n",
    "    i = 0\n",
    "    while line != '':\n",
    "        wpw.write(i, 0, line_list[0])\n",
    "        wpw.write(i, 1, line_list[1])\n",
    "        line = f.readline().replace('\\n','')\n",
    "        line_list = line.split()\n",
    "        i += 1\n",
    "    f.close()\n",
    "    wb.save('mn.xls')"
   ],
   "cell_type": "code",
   "outputs": [
    {
     "output_type": "stream",
     "name": "stdout",
     "text": "0\n<class 'str'>\n1\n<class 'str'>\n2\n<class 'str'>\n3\n<class 'str'>\n4\n<class 'str'>\n5\n<class 'str'>\n6\n<class 'str'>\n7\n<class 'str'>\n"
    }
   ],
   "metadata": {},
   "execution_count": 55
  },
  {
   "cell_type": "code",
   "execution_count": null,
   "metadata": {},
   "outputs": [],
   "source": []
  }
 ]
}